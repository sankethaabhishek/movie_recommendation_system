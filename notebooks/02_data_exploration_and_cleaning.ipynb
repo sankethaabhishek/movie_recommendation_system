{
 "cells": [
  {
   "cell_type": "code",
   "execution_count": 1,
   "id": "afa21e51-a19e-4930-a36f-f371741f6b44",
   "metadata": {},
   "outputs": [
    {
     "name": "stdout",
     "output_type": "stream",
     "text": [
      "Movies DataFrame:\n",
      "   movieId                               title  \\\n",
      "0        1                    Toy Story (1995)   \n",
      "1        2                      Jumanji (1995)   \n",
      "2        3             Grumpier Old Men (1995)   \n",
      "3        4            Waiting to Exhale (1995)   \n",
      "4        5  Father of the Bride Part II (1995)   \n",
      "\n",
      "                                        genres  \n",
      "0  Adventure|Animation|Children|Comedy|Fantasy  \n",
      "1                   Adventure|Children|Fantasy  \n",
      "2                               Comedy|Romance  \n",
      "3                         Comedy|Drama|Romance  \n",
      "4                                       Comedy  \n",
      "Ratings DataFrame:\n",
      "   userId  movieId  rating  timestamp\n",
      "0       1        1     4.0  964982703\n",
      "1       1        3     4.0  964981247\n",
      "2       1        6     4.0  964982224\n",
      "3       1       47     5.0  964983815\n",
      "4       1       50     5.0  964982931\n"
     ]
    }
   ],
   "source": [
    "import pandas as pd\n",
    "\n",
    "movies_df = pd.read_csv('../data/raw/movies.csv')\n",
    "ratings_df = pd.read_csv('../data/raw/ratings.csv')\n",
    "\n",
    "print(\"Movies DataFrame:\")\n",
    "print(movies_df.head())\n",
    "print(\"Ratings DataFrame:\")\n",
    "print(ratings_df.head())\n",
    "                        "
   ]
  },
  {
   "cell_type": "code",
   "execution_count": 2,
   "id": "e6e11ac7-8041-429b-98b5-fb05fd7a8080",
   "metadata": {},
   "outputs": [
    {
     "name": "stdout",
     "output_type": "stream",
     "text": [
      "\n",
      "Missing Values in Movies DataFrame:\n",
      "movieId    0\n",
      "title      0\n",
      "genres     0\n",
      "dtype: int64\n",
      "\n",
      "Missing Values in Ratings DataFrame:\n",
      "userId       0\n",
      "movieId      0\n",
      "rating       0\n",
      "timestamp    0\n",
      "dtype: int64\n"
     ]
    }
   ],
   "source": [
    "# Checking for missing values\n",
    "print(\"\\nMissing Values in Movies DataFrame:\")\n",
    "print(movies_df.isnull().sum())\n",
    "\n",
    "print(\"\\nMissing Values in Ratings DataFrame:\")\n",
    "print(ratings_df.isnull().sum())"
   ]
  },
  {
   "cell_type": "code",
   "execution_count": 3,
   "id": "5b23a1ea-6959-4447-a04f-e7022fc36a48",
   "metadata": {},
   "outputs": [
    {
     "name": "stdout",
     "output_type": "stream",
     "text": [
      "\n",
      "Duplicate rows in Movies DataFrame:\n",
      "0\n",
      "\n",
      "Duplicated rows in Ratings DataFrame:\n",
      "0\n"
     ]
    }
   ],
   "source": [
    "# Checking for duplicates\n",
    "print(\"\\nDuplicate rows in Movies DataFrame:\")\n",
    "print(movies_df.duplicated().sum())\n",
    "\n",
    "print(\"\\nDuplicated rows in Ratings DataFrame:\")\n",
    "print(ratings_df.duplicated().sum())"
   ]
  },
  {
   "cell_type": "code",
   "execution_count": 6,
   "id": "348e3254-b439-42ec-bcc0-c90608f42b8f",
   "metadata": {},
   "outputs": [
    {
     "name": "stdout",
     "output_type": "stream",
     "text": [
      "\n",
      "Ratings Value Counts:\n",
      "rating\n",
      "0.5     1370\n",
      "1.0     2811\n",
      "1.5     1791\n",
      "2.0     7551\n",
      "2.5     5550\n",
      "3.0    20047\n",
      "3.5    13136\n",
      "4.0    26818\n",
      "4.5     8551\n",
      "5.0    13211\n",
      "Name: count, dtype: int64\n"
     ]
    },
    {
     "name": "stderr",
     "output_type": "stream",
     "text": [
      "Matplotlib is building the font cache; this may take a moment.\n",
      "/var/folders/97/6vmy4w112szg9v0nq70hphs80000gn/T/ipykernel_1383/3160748844.py:9: FutureWarning: \n",
      "\n",
      "Passing `palette` without assigning `hue` is deprecated and will be removed in v0.14.0. Assign the `x` variable to `hue` and set `legend=False` for the same effect.\n",
      "\n",
      "  sns.countplot(x='rating', data=ratings_df, palette='viridis')\n"
     ]
    },
    {
     "data": {
      "image/png": "[encoded data removed]",
      "text/plain": [
       "<Figure size 800x500 with 1 Axes>"
      ]
     },
     "metadata": {},
     "output_type": "display_data"
    }
   ],
   "source": [
    "# Understanding ratings distribution\n",
    "print(\"\\nRatings Value Counts:\")\n",
    "print(ratings_df['rating'].value_counts().sort_index())\n",
    "\n",
    "import matplotlib.pyplot as plt\n",
    "import seaborn as sns\n",
    "\n",
    "plt.figure(figsize=(8, 5))\n",
    "sns.countplot(x='rating', data=ratings_df, palette='viridis')\n",
    "plt.title('Distribution of Ratings')\n",
    "plt.xlabel('Rating')\n",
    "plt.ylabel('Count')\n",
    "plt.show()"
   ]
  },
  {
   "cell_type": "code",
   "execution_count": null,
   "id": "4c70dc8c-4e7b-4ef8-8065-f3bf7223d851",
   "metadata": {},
   "outputs": [],
   "source": []
  }
 ],
 "metadata": {
  "kernelspec": {
   "display_name": "Python 3 (ipykernel)",
   "language": "python",
   "name": "python3"
  },
  "language_info": {
   "codemirror_mode": {
    "name": "ipython",
    "version": 3
   },
   "file_extension": ".py",
   "mimetype": "text/x-python",
   "name": "python",
   "nbconvert_exporter": "python",
   "pygments_lexer": "ipython3",
   "version": "3.13.5"
  }
 },
 "nbformat": 4,
 "nbformat_minor": 5
}
