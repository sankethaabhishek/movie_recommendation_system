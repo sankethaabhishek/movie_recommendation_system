{
 "cells": [
  {
   "cell_type": "code",
   "execution_count": 2,
   "id": "908d6151-d95f-4182-930a-64b6377a028c",
   "metadata": {},
   "outputs": [
    {
     "name": "stdout",
     "output_type": "stream",
     "text": [
      "Data Reloaded and Merged. Head of Merged DataFrame:\n",
      "    userId  movieId  rating  timestamp                        title  \\\n",
      "0       1        1     4.0  964982703             Toy Story (1995)   \n",
      "1       1        3     4.0  964981247      Grumpier Old Men (1995)   \n",
      "2       1        6     4.0  964982224                  Heat (1995)   \n",
      "3       1       47     5.0  964983815  Seven (a.k.a. Se7en) (1995)   \n",
      "4       1       50     5.0  964982931   Usual Suspects, The (1995)   \n",
      "\n",
      "                                        genres  \n",
      "0  Adventure|Animation|Children|Comedy|Fantasy  \n",
      "1                               Comedy|Romance  \n",
      "2                        Action|Crime|Thriller  \n",
      "3                             Mystery|Thriller  \n",
      "4                       Crime|Mystery|Thriller  \n"
     ]
    }
   ],
   "source": [
    "import pandas as pd\n",
    "import numpy as np\n",
    "\n",
    "movies_df = pd.read_csv('../data/raw/movies.csv')\n",
    "ratings_df = pd.read_csv('../data/raw/ratings.csv')\n",
    "\n",
    " # Merging ratings with mobie details to get titles alonside ratings\n",
    "df = pd.merge(ratings_df, movies_df, on='movieId', how='left')\n",
    "\n",
    "print(\"Data Reloaded and Merged. Head of Merged DataFrame:\\n\", df.head())\n"
   ]
  },
  {
   "cell_type": "code",
   "execution_count": 3,
   "id": "4acb792e-18f1-4668-8d69-723225d9474a",
   "metadata": {},
   "outputs": [
    {
     "name": "stdout",
     "output_type": "stream",
     "text": [
      "\n",
      "User-Movie Matrix Head (first 5 users, first few movies alphabetically):\n",
      "title   '71 (2014)  'Hellboy': The Seeds of Creation (2004)  \\\n",
      "userId                                                        \n",
      "1              NaN                                      NaN   \n",
      "2              NaN                                      NaN   \n",
      "3              NaN                                      NaN   \n",
      "4              NaN                                      NaN   \n",
      "5              NaN                                      NaN   \n",
      "\n",
      "title   'Round Midnight (1986)  'Salem's Lot (2004)  \\\n",
      "userId                                                \n",
      "1                          NaN                  NaN   \n",
      "2                          NaN                  NaN   \n",
      "3                          NaN                  NaN   \n",
      "4                          NaN                  NaN   \n",
      "5                          NaN                  NaN   \n",
      "\n",
      "title   'Til There Was You (1997)  'Tis the Season for Love (2015)  \\\n",
      "userId                                                               \n",
      "1                             NaN                              NaN   \n",
      "2                             NaN                              NaN   \n",
      "3                             NaN                              NaN   \n",
      "4                             NaN                              NaN   \n",
      "5                             NaN                              NaN   \n",
      "\n",
      "title   'burbs, The (1989)  'night Mother (1986)  (500) Days of Summer (2009)  \\\n",
      "userId                                                                          \n",
      "1                      NaN                   NaN                          NaN   \n",
      "2                      NaN                   NaN                          NaN   \n",
      "3                      NaN                   NaN                          NaN   \n",
      "4                      NaN                   NaN                          NaN   \n",
      "5                      NaN                   NaN                          NaN   \n",
      "\n",
      "title   *batteries not included (1987)  \n",
      "userId                                  \n",
      "1                                  NaN  \n",
      "2                                  NaN  \n",
      "3                                  NaN  \n",
      "4                                  NaN  \n",
      "5                                  NaN  \n",
      "\n",
      "Shape of User-Movie Matrix: (610, 9719)\n",
      "\n",
      "Number of NaN values in User-Movie Matrix: 5827758\n"
     ]
    }
   ],
   "source": [
    "# Creating the User-Item Matrix\n",
    "user_movie_matrix = df.pivot_table(index='userId', columns='title', values='rating')\n",
    "\n",
    "print(\"\\nUser-Movie Matrix Head (first 5 users, first few movies alphabetically):\")\n",
    "print(user_movie_matrix.iloc[:5, :10])\n",
    "print(\"\\nShape of User-Movie Matrix:\", user_movie_matrix.shape)\n",
    "print(\"\\nNumber of NaN values in User-Movie Matrix:\", user_movie_matrix.isnull().sum().sum())\n"
   ]
  },
  {
   "cell_type": "code",
   "execution_count": null,
   "id": "a266d40a-b133-4ea2-8906-c80bf3c39778",
   "metadata": {},
   "outputs": [],
   "source": []
  }
 ],
 "metadata": {
  "kernelspec": {
   "display_name": "Python 3 (ipykernel)",
   "language": "python",
   "name": "python3"
  },
  "language_info": {
   "codemirror_mode": {
    "name": "ipython",
    "version": 3
   },
   "file_extension": ".py",
   "mimetype": "text/x-python",
   "name": "python",
   "nbconvert_exporter": "python",
   "pygments_lexer": "ipython3",
   "version": "3.13.5"
  }
 },
 "nbformat": 4,
 "nbformat_minor": 5
}
