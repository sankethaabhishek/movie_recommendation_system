{
 "cells": [
  {
   "cell_type": "code",
   "execution_count": 5,
   "id": "908d6151-d95f-4182-930a-64b6377a028c",
   "metadata": {},
   "outputs": [
    {
     "name": "stdout",
     "output_type": "stream",
     "text": [
      "Data Reloaded and Merged. Head of Merged DataFrame:\n",
      "    userId  movieId  rating  timestamp                        title  \\\n",
      "0       1        1     4.0  964982703             Toy Story (1995)   \n",
      "1       1        3     4.0  964981247      Grumpier Old Men (1995)   \n",
      "2       1        6     4.0  964982224                  Heat (1995)   \n",
      "3       1       47     5.0  964983815  Seven (a.k.a. Se7en) (1995)   \n",
      "4       1       50     5.0  964982931   Usual Suspects, The (1995)   \n",
      "\n",
      "                                        genres  \n",
      "0  Adventure|Animation|Children|Comedy|Fantasy  \n",
      "1                               Comedy|Romance  \n",
      "2                        Action|Crime|Thriller  \n",
      "3                             Mystery|Thriller  \n",
      "4                       Crime|Mystery|Thriller  \n"
     ]
    }
   ],
   "source": [
    "import pandas as pd\n",
    "import numpy as np\n",
    "\n",
    "movies_df = pd.read_csv('../data/raw/movies.csv')\n",
    "ratings_df = pd.read_csv('../data/raw/ratings.csv')\n",
    "\n",
    " # Merging ratings with mobie details to get titles alonside ratings\n",
    "df = pd.merge(ratings_df, movies_df, on='movieId', how='left')\n",
    "\n",
    "print(\"Data Reloaded and Merged. Head of Merged DataFrame:\\n\", df.head())\n"
   ]
  },
  {
   "cell_type": "code",
   "execution_count": 6,
   "id": "4acb792e-18f1-4668-8d69-723225d9474a",
   "metadata": {},
   "outputs": [
    {
     "name": "stdout",
     "output_type": "stream",
     "text": [
      "\n",
      "User-Movie Matrix Head (first 5 users, first few movies alphabetically):\n",
      "title   '71 (2014)  'Hellboy': The Seeds of Creation (2004)  \\\n",
      "userId                                                        \n",
      "1              NaN                                      NaN   \n",
      "2              NaN                                      NaN   \n",
      "3              NaN                                      NaN   \n",
      "4              NaN                                      NaN   \n",
      "5              NaN                                      NaN   \n",
      "\n",
      "title   'Round Midnight (1986)  'Salem's Lot (2004)  \\\n",
      "userId                                                \n",
      "1                          NaN                  NaN   \n",
      "2                          NaN                  NaN   \n",
      "3                          NaN                  NaN   \n",
      "4                          NaN                  NaN   \n",
      "5                          NaN                  NaN   \n",
      "\n",
      "title   'Til There Was You (1997)  'Tis the Season for Love (2015)  \\\n",
      "userId                                                               \n",
      "1                             NaN                              NaN   \n",
      "2                             NaN                              NaN   \n",
      "3                             NaN                              NaN   \n",
      "4                             NaN                              NaN   \n",
      "5                             NaN                              NaN   \n",
      "\n",
      "title   'burbs, The (1989)  'night Mother (1986)  (500) Days of Summer (2009)  \\\n",
      "userId                                                                          \n",
      "1                      NaN                   NaN                          NaN   \n",
      "2                      NaN                   NaN                          NaN   \n",
      "3                      NaN                   NaN                          NaN   \n",
      "4                      NaN                   NaN                          NaN   \n",
      "5                      NaN                   NaN                          NaN   \n",
      "\n",
      "title   *batteries not included (1987)  \n",
      "userId                                  \n",
      "1                                  NaN  \n",
      "2                                  NaN  \n",
      "3                                  NaN  \n",
      "4                                  NaN  \n",
      "5                                  NaN  \n",
      "\n",
      "Shape of User-Movie Matrix: (610, 9719)\n",
      "\n",
      "Number of NaN values in User-Movie Matrix: 5827758\n"
     ]
    }
   ],
   "source": [
    "# Creating the User-Item Matrix\n",
    "user_movie_matrix = df.pivot_table(index='userId', columns='title', values='rating')\n",
    "\n",
    "print(\"\\nUser-Movie Matrix Head (first 5 users, first few movies alphabetically):\")\n",
    "print(user_movie_matrix.iloc[:5, :10])\n",
    "print(\"\\nShape of User-Movie Matrix:\", user_movie_matrix.shape)\n",
    "print(\"\\nNumber of NaN values in User-Movie Matrix:\", user_movie_matrix.isnull().sum().sum())\n"
   ]
  },
  {
   "cell_type": "code",
   "execution_count": 7,
   "id": "a266d40a-b133-4ea2-8906-c80bf3c39778",
   "metadata": {},
   "outputs": [
    {
     "name": "stdout",
     "output_type": "stream",
     "text": [
      "Item Similarity DataFrame Head (showing correlations between movies):\n",
      "title                                    '71 (2014)  \\\n",
      "title                                                 \n",
      "'71 (2014)                                      NaN   \n",
      "'Hellboy': The Seeds of Creation (2004)         NaN   \n",
      "'Round Midnight (1986)                          NaN   \n",
      "'Salem's Lot (2004)                             NaN   \n",
      "'Til There Was You (1997)                       NaN   \n",
      "\n",
      "title                                    'Hellboy': The Seeds of Creation (2004)  \\\n",
      "title                                                                              \n",
      "'71 (2014)                                                                   NaN   \n",
      "'Hellboy': The Seeds of Creation (2004)                                      NaN   \n",
      "'Round Midnight (1986)                                                       NaN   \n",
      "'Salem's Lot (2004)                                                          NaN   \n",
      "'Til There Was You (1997)                                                    NaN   \n",
      "\n",
      "title                                    'Round Midnight (1986)  \\\n",
      "title                                                             \n",
      "'71 (2014)                                                  NaN   \n",
      "'Hellboy': The Seeds of Creation (2004)                     NaN   \n",
      "'Round Midnight (1986)                                      NaN   \n",
      "'Salem's Lot (2004)                                         NaN   \n",
      "'Til There Was You (1997)                                   NaN   \n",
      "\n",
      "title                                    'Salem's Lot (2004)  \\\n",
      "title                                                          \n",
      "'71 (2014)                                               NaN   \n",
      "'Hellboy': The Seeds of Creation (2004)                  NaN   \n",
      "'Round Midnight (1986)                                   NaN   \n",
      "'Salem's Lot (2004)                                      NaN   \n",
      "'Til There Was You (1997)                                NaN   \n",
      "\n",
      "title                                    'Til There Was You (1997)  \n",
      "title                                                               \n",
      "'71 (2014)                                                     NaN  \n",
      "'Hellboy': The Seeds of Creation (2004)                        NaN  \n",
      "'Round Midnight (1986)                                         NaN  \n",
      "'Salem's Lot (2004)                                            NaN  \n",
      "'Til There Was You (1997)                                      1.0  \n",
      "\n",
      "Shape of Item Similarity DataFrame: (9719, 9719)\n"
     ]
    }
   ],
   "source": [
    "# Calculating correlation between movies\n",
    "item_similarity_df = user_movie_matrix.corr(method='pearson')\n",
    "\n",
    "print(\"Item Similarity DataFrame Head (showing correlations between movies):\")\n",
    "print(item_similarity_df.iloc[:5, :5])\n",
    "print(\"\\nShape of Item Similarity DataFrame:\", item_similarity_df.shape)"
   ]
  },
  {
   "cell_type": "code",
   "execution_count": 8,
   "id": "a8f104cc-3b3d-4dc7-b260-63498419fdba",
   "metadata": {},
   "outputs": [
    {
     "name": "stdout",
     "output_type": "stream",
     "text": [
      "Recommendation function defined.\n"
     ]
    }
   ],
   "source": [
    "# creating recommendation function\n",
    "def get_movie_recommendations(movie_title, item_similarity_df, user_movie_matrix, num_recommendations=10):\n",
    "    \"\"\"\n",
    "    Recommends similar movies based on item-item similarity.\n",
    "\n",
    "    Args:\n",
    "        movie_title (str): The title of the movie for which to find recommendations.\n",
    "        item_similarity_df (pd.DataFrame): DataFrame of item-item similarities.\n",
    "        user_movie_matrix (pd.DataFrame): User-item matrix.\n",
    "        num_recommendations (int): Number of recommendations to return.\n",
    "\n",
    "    Returns:\n",
    "        pd.Series: A Series of recommend movie titles.\n",
    "    \"\"\"\n",
    "    if movie_title not in item_similarity_df.columns:\n",
    "        print(f\"Movie '{movie_title}' not found in the dataset.\")\n",
    "        return pd.Series()\n",
    "\n",
    "    similar_scores = item_similarity_df[movie_title].sort_values(ascending=False)\n",
    "    similar_scores = similar_scores.drop(movie_title)\n",
    "    similar_scores = similar_scores.dropna()\n",
    "    return similar_scores.head(num_recommendations)\n",
    "\n",
    "print(\"Recommendation function defined.\")\n",
    "    "
   ]
  },
  {
   "cell_type": "code",
   "execution_count": 9,
   "id": "fcc6e0a8-8a34-4a31-9f7c-b9e0acca13e9",
   "metadata": {},
   "outputs": [
    {
     "name": "stdout",
     "output_type": "stream",
     "text": [
      "\n",
      "Recomendations for 'Toy Story (1995)':\n",
      "title\n",
      "Senna (2010)                                          1.0\n",
      "Eddie Murphy Delirious (1983)                         1.0\n",
      "Brigadoon (1954)                                      1.0\n",
      "Stalker (1979)                                        1.0\n",
      "Claim, The (2000)                                     1.0\n",
      "Hearts of Darkness: A Filmmakers Apocalypse (1991)    1.0\n",
      "Halloween III: Season of the Witch (1982)             1.0\n",
      "Hall Pass (2011)                                      1.0\n",
      "Guy Thing, A (2003)                                   1.0\n",
      "Persuasion (2007)                                     1.0\n",
      "Name: Toy Story (1995), dtype: float64\n",
      "\n",
      "Recommendations for 'Forrest Gump (1994)':\n",
      "title\n",
      "Memories (Memorîzu) (1995)                   1.0\n",
      "Locke (2013)                                 1.0\n",
      "Batman: Gotham Knight (2008)                 1.0\n",
      "Mirror, The (Zerkalo) (1975)                 1.0\n",
      "Blue Collar Comedy Tour: The Movie (2003)    1.0\n",
      "Time Lapse (2014)                            1.0\n",
      "U2: Rattle and Hum (1988)                    1.0\n",
      "Hair (1979)                                  1.0\n",
      "Black Mirror: White Christmas (2014)         1.0\n",
      "Relic, The (1997)                            1.0\n",
      "Name: Forrest Gump (1994), dtype: float64\n"
     ]
    }
   ],
   "source": [
    "# Testing recommendation function\n",
    "recommended_movies = get_movie_recommendations('Toy Story (1995)', item_similarity_df, user_movie_matrix)\n",
    "\n",
    "print(\"\\nRecomendations for 'Toy Story (1995)':\")\n",
    "print(recommended_movies)\n",
    "\n",
    "# Testing -2\n",
    "recommended_movies2 = get_movie_recommendations('Forrest Gump (1994)', item_similarity_df, user_movie_matrix)\n",
    "\n",
    "print(\"\\nRecommendations for 'Forrest Gump (1994)':\")\n",
    "print(recommended_movies2)"
   ]
  },
  {
   "cell_type": "code",
   "execution_count": 10,
   "id": "53316db3-d021-4df5-ab39-8501b93ec3e4",
   "metadata": {},
   "outputs": [
    {
     "name": "stdout",
     "output_type": "stream",
     "text": [
      "Personalized Recommendation function defined.\n"
     ]
    }
   ],
   "source": [
    "# Improving the recommendation function, to only recommend movies that specified userId has not rated yet\n",
    "\n",
    "def get_personalized_recommendations(user_id, movie_title, item_similarity_df, user_movie_matrix, num_recommendations=10, min_ratings_threshold=50):\n",
    "    \"\"\"\n",
    "    Recommends similar movies for a specific user, excluding movies they've already rated,\n",
    "    and considering a minimum number of common ratings for similarity calculation.\n",
    "\n",
    "    Args:\n",
    "        user_id (int): The ID of the user for whom to generate recommendations.\n",
    "        movie_title (str): The title of the movie the user liked.\n",
    "        item_similarity_df (pd.DataFrame): DataFrame of item-item similarities.\n",
    "        user_movie_matrix (pd.DataFrame): User-item matrix.\n",
    "        num_recommendations (int): Number of recommendations to return.\n",
    "        min_ratings_threshold (int): Minimum number of common ratings required for a valid similarity.\n",
    "\n",
    "    Returns:\n",
    "        pd.Series: A Series of recommended movie titles.\n",
    "    \"\"\"\n",
    "    \n",
    "    if movie_title not in item_similarity_df.columns:\n",
    "        print(f\"Movie '{movie_title}' not found in the dataset.\")\n",
    "        return pd.Series()\n",
    "\n",
    "    similar_scores = item_similarity_df[movie_title].sort_values(ascending=False)\n",
    "    user_rated_movies = user_movie_matrix.loc[user_id].dropna().index.tolist()\n",
    "\n",
    "    recommended_titles = []\n",
    "    for movie, score in similar_scores.items():\n",
    "        if pd.isna(score): \n",
    "            continue\n",
    "        if movie == movie_title:\n",
    "            continue\n",
    "        if movie in user_rated_movies:\n",
    "            continue\n",
    "        recommended_titles.append((movie, score))\n",
    "        if len(recommended_titles) >= num_recommendations:\n",
    "            break\n",
    "    return pd.Series([title for title, score in recommended_titles],\n",
    "                     index=[score for title, score in recommended_titles])\n",
    "\n",
    "print(\"Personalized Recommendation function defined.\")\n"
   ]
  },
  {
   "cell_type": "code",
   "execution_count": 11,
   "id": "f2a396a0-070d-478b-b262-ee837259dd94",
   "metadata": {},
   "outputs": [
    {
     "name": "stdout",
     "output_type": "stream",
     "text": [
      "\n",
      "Personalized Recommendations for User 1 (based on liking 'Toy Story (1995)'):\n",
      "1.0                     Senna (2010)\n",
      "1.0    Eddie Murphy Delirious (1983)\n",
      "1.0                 Brigadoon (1954)\n",
      "1.0                   Stalker (1979)\n",
      "1.0                Claim, The (2000)\n",
      "dtype: object\n"
     ]
    }
   ],
   "source": [
    "# Example: Get personalized recommendations for User ID 1 who liked 'Toy Story (1995)'\n",
    "user_id_to_test = 1\n",
    "movie_liked_by_user = 'Toy Story (1995)'\n",
    "personalized_recommendations = get_personalized_recommendations(\n",
    "    user_id_to_test,\n",
    "    movie_liked_by_user,\n",
    "    item_similarity_df,\n",
    "    user_movie_matrix,\n",
    "    num_recommendations=5 \n",
    ")\n",
    "\n",
    "print(f\"\\nPersonalized Recommendations for User {user_id_to_test} (based on liking '{movie_liked_by_user}'):\")\n",
    "print(personalized_recommendations)\n"
   ]
  },
  {
   "cell_type": "code",
   "execution_count": null,
   "id": "c4da8bcc-e2ab-4de2-9089-ca232a28e3f5",
   "metadata": {},
   "outputs": [],
   "source": []
  }
 ],
 "metadata": {
  "kernelspec": {
   "display_name": "Python 3 (ipykernel)",
   "language": "python",
   "name": "python3"
  },
  "language_info": {
   "codemirror_mode": {
    "name": "ipython",
    "version": 3
   },
   "file_extension": ".py",
   "mimetype": "text/x-python",
   "name": "python",
   "nbconvert_exporter": "python",
   "pygments_lexer": "ipython3",
   "version": "3.13.5"
  }
 },
 "nbformat": 4,
 "nbformat_minor": 5
}
